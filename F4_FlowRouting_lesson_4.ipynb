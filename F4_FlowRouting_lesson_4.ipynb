{
 "cells": [
  {
   "cell_type": "markdown",
   "metadata": {},
   "source": [
    "# Flow Routing Lesson 4.\n",
    "You can run this notebook on your laptop with landlab v2.6.0 or in lab.openearthscape using the CSDMS environment.\n",
    "\n",
    "# 1. PriorityFloodFlowRouter and a simple landscape evolution model.\n",
    "- Let's now try a simple landscape evolution model (inspired from Benjamin Campforts):\n",
    "    - which vertically uplifts at a constant and uniform rate.\n",
    "    - which is subject to river incision, sediment transport and deposition. We'll use to this end the SpaceLargeScaleEroder, developed by Benjamin Campforts based on the SpaceScaleEroder [Shobe et al., 2017](https://doi.org/10.5194/gmd-10-4577-2017).\n",
    "    - with one-to-one flow (the SpaceScaleEroder and SpaceLargeScaleEroder don't work yet on one-to-multiple flows).\n",
    "- We first import the packages and components."
   ]
  },
  {
   "cell_type": "code",
   "execution_count": null,
   "metadata": {
    "tags": []
   },
   "outputs": [],
   "source": [
    "# Import packages necessary for this lesson\n",
    "import numpy as np # Array handling.\n",
    "import matplotlib as mpl\n",
    "import matplotlib.pyplot as plt # Graphic display\n",
    "from tqdm import tqdm # to display progression line\n",
    "\n",
    "from landlab import RasterModelGrid # Grid management.\n",
    "\n",
    "# Depression and flow handling\n",
    "from landlab.components import (\n",
    "    FlowDirectorSteepest,\n",
    "    FlowDirectorD8,\n",
    "    PriorityFloodFlowRouter,\n",
    "    SpaceLargeScaleEroder,\n",
    "    BedrockLandslider  # BedrockLandslider model\n",
    ")\n",
    "\n",
    "# Flood status.\n",
    "from landlab.components.depression_finder.floodstatus import FloodStatus\n",
    "\n",
    "# import landlab plotting functionality.\n",
    "from landlab import imshowhs_grid, imshow_grid\n",
    "from landlab.plot.drainage_plot import drainage_plot\n",
    "from landlab.plot import graph"
   ]
  },
  {
   "cell_type": "markdown",
   "metadata": {},
   "source": [
    "- We then initiate the grid and the model:"
   ]
  },
  {
   "cell_type": "code",
   "execution_count": null,
   "metadata": {
    "tags": []
   },
   "outputs": [],
   "source": [
    "# Creation of the grid.\n",
    "g = RasterModelGrid((15, 15), xy_spacing=10.0)\n",
    "\n",
    "# Set of the initial topography, with random small noise\n",
    "z = g.add_zeros(\"topographic__elevation\", at=\"node\")\n",
    "g.at_node[\"topographic__elevation\"][g.core_nodes] += np.random.rand(\n",
    "    g.number_of_core_nodes\n",
    ")\n",
    "\n",
    "# Set soil depth\n",
    "s = g.add_zeros(\"soil__depth\", at=\"node\", dtype=float)\n",
    "g.at_node[\"soil__depth\"][g.core_nodes] += 0.5\n",
    "g.at_node[\"topographic__elevation\"] += g.at_node[\"soil__depth\"]\n",
    "\n",
    "# Set the flow router component.\n",
    "fr = PriorityFloodFlowRouter(g, flow_metric=\"D8\", update_flow_depressions=True)\n",
    "fr.run_one_step()\n",
    "\n",
    "# Set the river incision, sediment transport and deposition component.\n",
    "ha = SpaceLargeScaleEroder(g, K_sed=0.0001, K_br=0.0001, phi=0.3, H_star=1)\n",
    "\n",
    "br = g.at_node[\"bedrock__elevation\"] # created by the SpaceLargeScaleEroder\n",
    "\n",
    "# Time step. \n",
    "space_dt = 250\n",
    "\n",
    "# Display of the initial drainage network.\n",
    "drainage_plot(g, surf_cmap=\"terrain\")\n",
    "plt.show()"
   ]
  },
  {
   "cell_type": "markdown",
   "metadata": {
    "tags": []
   },
   "source": [
    "- And now we run the model for some iterations."
   ]
  },
  {
   "cell_type": "code",
   "execution_count": null,
   "metadata": {},
   "outputs": [],
   "source": [
    "# Run the model\n",
    "z_ori = np.array(z)\n",
    "for i in tqdm(range(100)):\n",
    "    # Bedrock Uplift\n",
    "    br[g.core_nodes] += 0.001 * space_dt\n",
    "    # Elevation update\n",
    "    z[g.core_nodes] = br[g.core_nodes] + s[g.core_nodes]\n",
    "    # Run the PriorityFloodFlowRouter\n",
    "    fr.run_one_step()\n",
    "    # Run the SpaceLargeScaleEroder\n",
    "    ha.run_one_step(dt=space_dt)\n",
    "\n",
    "# Display the finale drainage network.\n",
    "drainage_plot(g, surf_cmap=\"terrain\")\n",
    "plt.show()"
   ]
  },
  {
   "cell_type": "markdown",
   "metadata": {},
   "source": [
    "## 2. Model including landslides.\n",
    "- Let's now try a model on a larger grid and which includes landsliding.\n",
    "    - In addition to previously shown components, we will use the **BedrockLandslider** component, developed by Benjamin Campforts [Campforts et al., 2022](https://doi.org/10.1029/2022JF006745), [Campforts et al., 2020](https://doi.org/10.5194/gmd-13-3863-2020). See the Hylands tutorial in the landlab tutorial landscape evolution folder (https://github.com/landlab/landlab/blob/master/notebooks/tutorials/landscape_evolution/hylands/HyLandsTutorial.ipynb).\n",
    "    - We increase the size of the grid.\n",
    "    \n",
    "- First, we initiate the model:"
   ]
  },
  {
   "cell_type": "code",
   "execution_count": null,
   "metadata": {
    "tags": []
   },
   "outputs": [],
   "source": [
    "# Initiate grid.\n",
    "g = RasterModelGrid((40, 40), 25.)\n",
    "\n",
    "# Create initial elevation, soil depth, bedrock elevation.\n",
    "g.add_zeros(\"node\", \"topographic__elevation\")\n",
    "g.add_zeros(\"node\", \"soil__depth\")\n",
    "g.add_zeros(\"bedrock__elevation\", at=\"node\")\n",
    "\n",
    "# set constant random seed for consistent topographic roughness\n",
    "np.random.seed(seed=5000)\n",
    "# add topographic roughness\n",
    "random_noise = np.random.rand(len(g.node_y)) / 1000.0\n",
    "\n",
    "g.at_node[\"bedrock__elevation\"] += random_noise\n",
    "g.at_node[\"soil__depth\"][g.core_nodes] = 1.0  # soil (=sediment) only on core nodes.\n",
    "g.at_node[\"topographic__elevation\"] = g.at_node[\"bedrock__elevation\"] + g.at_node[\"soil__depth\"]\n",
    "\n",
    "# Let open all boundaries\n",
    "g.set_closed_boundaries_at_grid_edges(\n",
    "    bottom_is_closed=False,\n",
    "    left_is_closed=False,\n",
    "    right_is_closed=False,\n",
    "    top_is_closed=False,\n",
    ")\n",
    "\n",
    "# Initiate the components of the landscape evolution model\n",
    "fr = PriorityFloodFlowRouter(g,\n",
    "    flow_metric=\"D8\",\n",
    "    separate_hill_flow=True, # important to create a field hill_flow__receiver_node  required by the BedrockLandslider\n",
    "    hill_flow_metric=\"Quinn\",\n",
    "    update_hill_flow_instantaneous=True,\n",
    "    )\n",
    "fr.run_one_step()\n",
    "sp = SpaceLargeScaleEroder(\n",
    "    g,\n",
    "    K_sed=2.5e-5,\n",
    "    K_br=2.5e-5,\n",
    "    F_f=0.0,\n",
    "    phi=0.0,\n",
    "    H_star=1.0,\n",
    "    v_s=1,\n",
    "    m_sp=0.5,\n",
    "    n_sp=1.0,\n",
    "    sp_crit_sed=0,\n",
    "    sp_crit_br=0,\n",
    ")\n",
    "hy = BedrockLandslider(\n",
    "    g,\n",
    "    angle_int_frict=0.4,\n",
    "    cohesion_eff=1e3,\n",
    "    landslides_return_time=1000,\n",
    "    landslides_on_boundary_nodes=False,\n",
    ")"
   ]
  },
  {
   "cell_type": "markdown",
   "metadata": {},
   "source": [
    "- And now we run the model:"
   ]
  },
  {
   "cell_type": "code",
   "execution_count": null,
   "metadata": {
    "tags": []
   },
   "outputs": [],
   "source": [
    "U = 1e-2 # Uplift rate in m/y\n",
    "timestep = 200  # years\n",
    "landslides_size_all_steps = []\n",
    "\n",
    "for i in tqdm(range(50)):\n",
    "    # Uplift at core nodes\n",
    "    g.at_node[\"bedrock__elevation\"][g.core_nodes] += U * timestep\n",
    "    g.at_node[\"topographic__elevation\"][:] = (\n",
    "        g.at_node[\"bedrock__elevation\"] + g.at_node[\"soil__depth\"]\n",
    "    )\n",
    "\n",
    "    # Run the flow router\n",
    "    fr.run_one_step() # PriorityFloodFlowRouter run\n",
    "    sp.run_one_step(dt=timestep) # Space run\n",
    "    hy.run_one_step(dt=timestep) # BerockLandslider run\n",
    "\n",
    "# Display the final topography.\n",
    "imshow_grid(\n",
    "        g,\n",
    "        \"topographic__elevation\",\n",
    "        cmap=\"terrain\",\n",
    "        grid_units=(\"m\", \"m\"),\n",
    "        var_name=\"Elevation (m)\",\n",
    "        plot_name=\"Topographic elevation\",\n",
    "        show_elements=True,\n",
    "    )"
   ]
  },
  {
   "cell_type": "markdown",
   "metadata": {},
   "source": [
    "<br>\n",
    "<br/>\n",
    "Please reuse this material citing Lenard et al., 2023, CSDMS Annual Meeting.<br/>\n",
    "Author: Sebastien Lenard sebastien.lenard@gmail.com, with available notebooks by Benjamin Campforts<br>\n",
    "Date: 2023, May."
   ]
  },
  {
   "cell_type": "markdown",
   "metadata": {},
   "source": [
    "### Click here to learn about <a href=\"https://landlab.readthedocs.io/en/latest/user_guide/tutorials.html\">Landlab tutorials</a>"
   ]
  },
  {
   "cell_type": "code",
   "execution_count": null,
   "metadata": {},
   "outputs": [],
   "source": []
  }
 ],
 "metadata": {
  "kernelspec": {
   "display_name": "Develop",
   "language": "python",
   "name": "dev"
  },
  "language_info": {
   "codemirror_mode": {
    "name": "ipython",
    "version": 3
   },
   "file_extension": ".py",
   "mimetype": "text/x-python",
   "name": "python",
   "nbconvert_exporter": "python",
   "pygments_lexer": "ipython3",
   "version": "3.10.11"
  }
 },
 "nbformat": 4,
 "nbformat_minor": 4
}
