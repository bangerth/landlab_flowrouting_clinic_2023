{
 "cells": [
  {
   "cell_type": "markdown",
   "metadata": {},
   "source": [
    "# Flow Routing Lesson 5.\n",
    "You can run this notebook on your laptop with landlab v2.6.0 or in lab.openearthscape using the CSDMS environment.\n",
    "\n",
    "Please first install the flow_router \"component\" experimental version by:\n",
    "- opening a command line tool,\n",
    "- going into the flow_router folder `cd landlab_flowrouting_clinic_2023/flow_router`, \n",
    "- activating an environment having the Cython package installed, in lab.openearthscape you can do this by keying `source activate dev`,\n",
    "- and keying `python setup.py build_ext --inplace`\n",
    "\n",
    "Then to test if the component is correctly installed do in the command line tool:\n",
    "- `cd ..`\n",
    "- `python`\n",
    "- `from flow_router import FlowRouter`\n",
    "- No error should be raised.\n",
    "Presently (2023, May), install should be successful on Linux and Windows. Depending on your C/C++-compiler on Mac install can fail on that OS.\n",
    "\n",
    "Then you can use the FlowRouter experimental component in the notebook.\n",
    "\n",
    "## 1. Using the any-grid-type FlowRouter to solve depressions and direct and accumulate flow.\n",
    "\n",
    "The FlowRouter calculates single-to-single flow directions and accumulations, and handles depression at the same time. Compared with the DepressionFinderAndRouter, the component works on NetworkModelGrids, is compatible with multiple flow, and uses a fast implementation of the priority flood flow router algorithm. That being said, due to the algorithm, the FlowRouter might underperform the DepressionFinderAndRouter for grids without depressions.\n",
    "\n",
    "The FlowRouter doesn't wrap another external package, as the PriorityFloodFlowRouter does, and it consists of a python/landlab code, with a Cython part which requires to be compiled before use (this is what does the `pip install -e .` above). The FlowRouter has a lower execution time than the PriorityFloodFlowRouter for large grids and handles depressions on all types of gridm while the PriorityFloodFlowRouter handles depressions only in RasterModelGrids.\n",
    "\n",
    "*(Priority Flood Flow algorithm and downstream to upstream node ordering adapted from Barnes et al., 2014 and Braun and Willett, 2013).*\n",
    "\n",
    "- We start by importing the packages and the experimental FlowRouter component."
   ]
  },
  {
   "cell_type": "code",
   "execution_count": null,
   "metadata": {},
   "outputs": [],
   "source": [
    "# Libraries required\n",
    "####################\n",
    "# Python libraries\n",
    "import numpy as np\n",
    "import matplotlib as mpl\n",
    "import matplotlib.pyplot as plt\n",
    "import matplotlib.collections as mpl_collections\n",
    "import time  # performance testing\n",
    "\n",
    "# Landlab libraries/methods\n",
    "# Grid management\n",
    "from landlab import (\n",
    "    RasterModelGrid,\n",
    "    HexModelGrid,\n",
    "    RadialModelGrid,\n",
    "    FramedVoronoiGrid,\n",
    "    VoronoiDelaunayGrid,\n",
    "    NetworkModelGrid,\n",
    ")\n",
    "\n",
    "# Depression and flow handling\n",
    "from landlab.components import (\n",
    "    FlowDirectorSteepest,\n",
    "    FlowDirectorD8,\n",
    "    FlowDirectorMFD,\n",
    "    FlowDirectorDINF,\n",
    "    FlowAccumulator,\n",
    "    DepressionFinderAndRouter,\n",
    "    PriorityFloodFlowRouter,\n",
    ")\n",
    "\n",
    "# Flood status\n",
    "from landlab.components.depression_finder.floodstatus import FloodStatus\n",
    "\n",
    "# import landlab plotting functionality\n",
    "from landlab import imshowhs_grid, imshow_grid\n",
    "from landlab.plot.drainage_plot import drainage_plot\n",
    "from landlab.plot import graph\n",
    "\n",
    "# Experimental FlowRouter component. Requires that the code of the component be in a subfolder flow_router of the folder of this notebook.\n",
    "from flow_router import FlowRouter"
   ]
  },
  {
   "cell_type": "markdown",
   "metadata": {},
   "source": [
    "- We then setup the type, the size and the spacing of the grid. Let's choose a hexagonal grid and display the nodes (You could do the same with a RasterModelGrid):"
   ]
  },
  {
   "cell_type": "code",
   "execution_count": null,
   "metadata": {},
   "outputs": [],
   "source": [
    "# Selection of the grid type\n",
    "model_grid = HexModelGrid \n",
    "\n",
    "# Grid parameters\n",
    "xy_spacing = (10, 10)\n",
    "# Random generator to generate the coordinates of a VoronoiDelaunayGrid. To changeµ the coordinates,\n",
    "# change the seed (but you'll have to change the coordinates of perimeter and base-level nodes in next cell)\n",
    "random_generator = np.random.Generator(np.random.PCG64(seed=200))\n",
    "grid_param = {\n",
    "        \"shape\": (9, 5),\n",
    "        \"spacing\": xy_spacing[0],\n",
    "        \"node_layout\": [\"hex\", \"rect\"][0],\n",
    "        \"xy_axis_units\": \"m\",\n",
    "}\n",
    "\n",
    "# Creation of the grid\n",
    "g = model_grid(**grid_param)\n",
    "nodes_n = g.number_of_nodes\n",
    "# Create field topographic elevation at nodes with value 0 (will be modified later)\n",
    "z = g.add_zeros(\"topographic__elevation\", at=\"node\")\n",
    "\n",
    "if nodes_n < 200:\n",
    "    graph.plot_graph(g, at=\"node\")"
   ]
  },
  {
   "cell_type": "markdown",
   "metadata": {
    "tags": []
   },
   "source": [
    "- Let's now set the base-level and outlets.\n",
    "\n",
    "    - Landlab grids consist of nodes (and other elements as cells, links, ...) which have 4 status. (1) Nodes that receives flow from other nodes and transfer flow to other nodes are **core** nodes. (2) and (3), Nodes that receive flow but don't transfer it are either **fixed value** or **fixed gradient**. These nodes form the base-level of the grid and can be outlets of the grid (and they can have different elevation depending on the location on the grid. (4) Nodes that neither receive nor transfer flow are **closed**.\n",
    "\n",
    "    - By default, all grids except VoronoiDelaunayGrid and NetworkModelGrid have their base-level defined at their **perimeter**, which is also called **boundary**. In other words, the perimeter nodes have the status fixed value. The perimeter nodes of the NetworkModelGrid are by default all with status=core. So, if we choose NetworkModelGrid, it can be appropriate to specifically tell the code where the base-level nodes are, using the status fixed value and closed.\n",
    "\n",
    "    - Here, we set all perimeter nodes are base-level except on one edge:"
   ]
  },
  {
   "cell_type": "code",
   "execution_count": null,
   "metadata": {},
   "outputs": [],
   "source": [
    "if isinstance(g, RasterModelGrid):\n",
    "    g.set_closed_boundaries_at_grid_edges(\n",
    "        right_is_closed=False,\n",
    "        top_is_closed=True,\n",
    "        left_is_closed=False,\n",
    "        bottom_is_closed=False,\n",
    "    )\n",
    "elif isinstance(g, HexModelGrid):\n",
    "    g.status_at_node[g.nodes_at_top_edge] = g.BC_NODE_IS_CLOSED"
   ]
  },
  {
   "cell_type": "markdown",
   "metadata": {},
   "source": [
    "- The base-level and closed nodes will be visualized on the grid by a specific display method ```drainage_plot()``` after running the flow directions. For RasterModelGrids only, the closed perimeter nodes can also be visualized by the black color using the method imshow_grid (see below).\n",
    "\n",
    "- Let's now generate a random topography on which we'll direct and accumulate the flow. We fix topography of the node of id 0 at zero. And we create a wide depression in the grid. \n",
    "\n",
    "    - Note that it's also possible to direct and accumulate flow on other surface than the topographic elevation.\n",
    "\n",
    "    - *To generate a different topography, you can modify* ```seed=500``` *by* ```seed=200``` *for instance, or remove the seed.*"
   ]
  },
  {
   "cell_type": "code",
   "execution_count": null,
   "metadata": {},
   "outputs": [],
   "source": [
    "# set constant random seed for \"stable\" random pull\n",
    "random_generator = np.random.Generator(np.random.PCG64(seed=500))\n",
    "random_topography = 10.0  # range in elevation (from 0)\n",
    "z = g.at_node[\"topographic__elevation\"] = (\n",
    "    random_topography * random_generator.random(nodes_n) + 1.0\n",
    ")\n",
    "z[0] = 0.0\n",
    "\n",
    "# Add a large depression within the grid\n",
    "depression_nodes = []\n",
    "if isinstance(g, RasterModelGrid):\n",
    "    depression_nodes = [43, 44, 45, 53, 54, 55, 63, 64, 65, 66, 74, 75]\n",
    "elif isinstance(g, HexModelGrid):\n",
    "    depression_nodes = [29, 30, 37, 38, 39, 40, 45, 46, 47]\n",
    "z[depression_nodes] = random_generator.random(len(depression_nodes))\n",
    "\n",
    "imshow_grid(\n",
    "        g,\n",
    "        \"topographic__elevation\",\n",
    "        cmap=\"terrain\",\n",
    "        grid_units=(\"m\", \"m\"),\n",
    "        var_name=\"Elevation (m)\",\n",
    "        plot_name=\"Topographic elevation\",\n",
    "        show_elements=True,\n",
    "    )"
   ]
  },
  {
   "cell_type": "markdown",
   "metadata": {},
   "source": [
    "- Remarks:\n",
    "    - For RasterModelGrids: in this display, you can see the perimeter nodes for the RasterModelGrid. The closed perimeter nodes are black-colored. <br>\n",
    "    - For other types of grids: the perimeter nodes are hidden because of the implementation of the method ```imshow_grid()```. But for VoronoiDelaunayGrid, a few perimeter nodes can still be visible due to the incorrect determination of the perimeter nodes for this type of grid.\n",
    "\n",
    "    - Note the blue-tainted depression.\n",
    "\n",
    "- Let's now run the FlowRouter using single-to-single flow. \n",
    "    - Note that the FlowRouter is compatible with all types of grids and with single-to-single and single-to-multiple flow. We'll show that later."
   ]
  },
  {
   "cell_type": "code",
   "execution_count": null,
   "metadata": {},
   "outputs": [],
   "source": [
    "router = FlowRouter(g)\n",
    "router.run_one_step()\n",
    "\n",
    "drainage_plot(g, surf_cmap=\"terrain\")\n",
    "plt.show()\n",
    "imshow_grid(\n",
    "    g,\n",
    "    \"surface_water__discharge\",\n",
    "    cmap=\"Blues\",\n",
    "    grid_units=(\"m\", \"m\"),\n",
    "    var_name=\"Discharge (m^3/s)\",\n",
    "    plot_name=\"Surface water discharge\",\n",
    "    show_elements=True,\n",
    ")\n"
   ]
  },
  {
   "cell_type": "markdown",
   "metadata": {},
   "source": [
    "- Remarks:\n",
    "    - The drainage is displayed by the ```drainage_plot()``` method (which is not implemented for NetworkModelGrid). The cells are colored according to their elevation (right colorbar), except for perimeter nodes of non RasterModelGrids. The flow is directed along the steepest slope (yellow arrows). Diagonals are included by default for RasterModelGrids. The final outlet of the catchments are always a base-level perimeter node, because the FlowRouter component breach depressions.\n",
    "    - the DepressionFinderAndRouter works differently from the FlowRouter. The DepressionFinderAndRouter scans all the sinks. These sinks are provided by the FlowDirector/Accumulator (field ```flow__sink_flag```). The component then maps depressions and finds the lowest node at the perimeter of the depression. Once found, it considers this point as the depression outlet and recalculates all flow directions and accumulations by evacuating the depression.\n",
    "    <br />\n",
    "    <br />\n",
    "    - The FlowRouter handles the depressions and calculates the single-to-single flow directions at the same time. For this, the component starts from the base-level nodes (with status fixed value or fixed gradient) and constructs a flow path by overcoming the depressions. It ensures that peaks remain peaks by always handling nodes with the lowest elevation first. By default for rasters, the component also diagonals (this option can be modified by the argument ```diagonals=False```).\n",
    "\n",
    "    - The flows are directed differently from the DepressionFinderAndRouter because the algorithms are different. The FlowRouter algorithm starts from base-level nodes to construct the paths by simultaneously solving the depressions (this is the **priority flood flow algorithm**). Conversely, the FlowDirector calculates donors and receivers without starting from the base-level nodes and after that, the DepressionFinderAndRouter scans the depressions to solve them.\n",
    "\n",
    "## 2. FlowRouter with multiple flows.\n",
    "- Let's now try to combine the FlowRouter with multiple flow directions and accumulations. Note that multiple flow is not implemented for NetworkModelGrids.\n",
    "\n",
    "- Let's delete the fields which need to be resized in the multiple flow configuration."
   ]
  },
  {
   "cell_type": "code",
   "execution_count": null,
   "metadata": {},
   "outputs": [],
   "source": [
    "# Delete fields used with different shapes in FlowDirectorMFD\n",
    "for field in [\n",
    "    \"drainage_area\",\n",
    "    \"flow__link_to_receiver_node\",\n",
    "    \"flow__receiver_node\",\n",
    "    \"flow__receiver_proportions\",\n",
    "    \"flow__upstream_node_order\",\n",
    "    \"outlet_node\",\n",
    "    \"surface_water__discharge\",\n",
    "    \"topographic__steepest_slope\",\n",
    "]:\n",
    "    if field in g.at_node.keys():\n",
    "        g.delete_field(loc=\"node\", name=field)"
   ]
  },
  {
   "cell_type": "markdown",
   "metadata": {},
   "source": [
    "- Now, we can run the FlowRouter in multiple_flow mode with the argument ```single_flow=False```, for which it will only produce a depression free elevation and other informations as the depth of the depression, the outlet of the depression and the flooded status."
   ]
  },
  {
   "cell_type": "code",
   "execution_count": null,
   "metadata": {},
   "outputs": [],
   "source": [
    "# We take into account diagonal links for RasterModelGrids but not for other grids\n",
    "router = FlowRouter(g, single_flow=False)\n",
    "router.run_one_step()\n",
    "\n",
    "plt.show()\n",
    "imshow_grid(\n",
    "    g,\n",
    "    \"depression_free__elevation\",\n",
    "    cmap=\"terrain\",\n",
    "    grid_units=(\"m\", \"m\"),\n",
    "    var_name=\"Elevation (m)\",\n",
    "    plot_name=\"Depression free elevation\",\n",
    "    show_elements=True,\n",
    ")"
   ]
  },
  {
   "cell_type": "markdown",
   "metadata": {},
   "source": [
    "- Remarks:\n",
    "    - The depression-free elevation is determined by starting from the elevation the outlet of the depression and going upstream. Depression-free elevation is calculated this way: depression-free elevation of the receiver + a small epsilon. This epsilon is there to create an artificial very low slope to direct the multiple flow.\n",
    "\n",
    "    - This depression-free elevation surface is given as an input to the multiple flow directors.\n",
    "\n",
    "- Let's now run the **FlowDirectorMFD**, a multiple flow director component implemented by adapting the Multiple Flow Direction (MFD) algorithm of [Quinn et al., 1991](https://doi.org/10.1002/hyp.3360050106)."
   ]
  },
  {
   "cell_type": "code",
   "execution_count": null,
   "metadata": {},
   "outputs": [],
   "source": [
    "flow_director = \"FlowDirectorMFD\"\n",
    "diagonals = True if isinstance(g, RasterModelGrid) else False\n",
    "\n",
    "accumulator = FlowAccumulator(\n",
    "    g,\n",
    "    surface=\"depression_free__elevation\",\n",
    "    flow_director=flow_director,\n",
    "    diagonals=diagonals,\n",
    ")\n",
    "\n",
    "accumulator.run_one_step()\n",
    "drainage_plot(g, surface=\"depression_free__elevation\", surf_cmap=\"terrain\")\n",
    "plt.show()\n",
    "imshow_grid(\n",
    "    g,\n",
    "    \"surface_water__discharge\",\n",
    "    cmap=\"Blues\",\n",
    "    grid_units=(\"m\", \"m\"),\n",
    "    var_name=\"Discharge (m^3/s)\",\n",
    "    plot_name=\"Surface water discharge\",\n",
    "    show_elements=True,\n",
    ")"
   ]
  },
  {
   "cell_type": "markdown",
   "metadata": {},
   "source": [
    "- Now, let's run the FlowDirectorDinf, a dual-flow director component implemented by adapting the D-Infinity (DINF) algorithm of [Tarboton, 1997](https://doi.org/10.1029/96WR03137). \n",
    "    - This component works independently from the FlowDirectorMFD.\n",
    "    - Note that component only works for RasterGrids.\n",
    "\n",
    "    - Again, we delete the fields which need to be resized in the multiple flow configuration and then we instantiate and run the component."
   ]
  },
  {
   "cell_type": "code",
   "execution_count": null,
   "metadata": {},
   "outputs": [],
   "source": [
    "# Delete fields used with different shapes in FlowDirectDINF\n",
    "for field in [\n",
    "    \"drainage_area\",\n",
    "    \"flow__link_to_receiver_node\",\n",
    "    \"flow__receiver_node\",\n",
    "    \"flow__receiver_proportions\",\n",
    "    \"flow__upstream_node_order\",\n",
    "    \"outlet_node\",\n",
    "    \"surface_water__discharge\",\n",
    "    \"topographic__steepest_slope\",\n",
    "]:\n",
    "    if field in g.at_node.keys():\n",
    "        g.delete_field(loc=\"node\", name=field)"
   ]
  },
  {
   "cell_type": "code",
   "execution_count": null,
   "metadata": {},
   "outputs": [],
   "source": [
    "flow_director = \"FlowDirectorDINF\"\n",
    "if isinstance(g, RasterModelGrid):\n",
    "    accumulator = FlowAccumulator(\n",
    "        g, surface=\"depression_free__elevation\", flow_director=flow_director\n",
    "    )\n",
    "\n",
    "    accumulator.run_one_step()\n",
    "    drainage_plot(g, surface=\"depression_free__elevation\", surf_cmap=\"terrain\")\n",
    "    imshow_grid(\n",
    "        g,\n",
    "        \"surface_water__discharge\",\n",
    "        cmap=\"Blues\",\n",
    "        grid_units=(\"m\", \"m\"),\n",
    "        var_name=\"Discharge (m^3/s)\",\n",
    "        plot_name=\"Surface water discharge\",\n",
    "        show_elements=True,\n",
    "    )"
   ]
  },
  {
   "cell_type": "markdown",
   "metadata": {},
   "source": [
    "## 3. The FlowRouter in a Landscape Evolution Model.\n",
    "\n",
    "- The FlowRouter may be convenient to run landscape evolution models (LEM) over large grids and a large number of iterations (because it's faster than the DrainageFinderAndRouter in this use case).\n",
    "\n",
    "- Let's start by deleting the fields which shape is for multiple flow directions."
   ]
  },
  {
   "cell_type": "code",
   "execution_count": null,
   "metadata": {},
   "outputs": [],
   "source": [
    "# Delete fields used with different shapes\n",
    "for field in [\n",
    "    \"drainage_area\",\n",
    "    \"flow__link_to_receiver_node\",\n",
    "    \"flow__receiver_node\",\n",
    "    \"flow__receiver_proportions\",\n",
    "    \"flow__upstream_node_order\",\n",
    "    \"outlet_node\",\n",
    "    \"surface_water__discharge\",\n",
    "    \"topographic__steepest_slope\",\n",
    "]:\n",
    "    if field in g.at_node.keys():\n",
    "        g.delete_field(loc=\"node\", name=field)"
   ]
  },
  {
   "cell_type": "markdown",
   "metadata": {},
   "source": [
    "- Then, we construct a simple LEM. During 1 million years, the LEM will simulate an uplifting landscape from sea-level. Two erosion processes are included:\n",
    "    - bedrock mass wasting: slopes higher than a critical threshold are progressively chop down to the critical threshold (```ThresholdEroder```)\n",
    "    - river incision: rivers incise the bedrock with a stream power law (```StreamPowerEroder```).\n",
    "\n",
    "    - We assume the system evacuates all sediment out of the grid."
   ]
  },
  {
   "cell_type": "code",
   "execution_count": null,
   "metadata": {},
   "outputs": [],
   "source": [
    "from tqdm import tqdm\n",
    "from landlab.components import StreamPowerEroder, SpaceLargeScaleEroder, ThresholdEroder\n",
    "\n",
    "uplift_rate = 0.00001  # m/y\n",
    "dt = 1000  # timestep [y]\n",
    "t = 1e6  # 1e6 # totale time [y]\n",
    "n_dt = int(np.floor(t / dt))\n",
    "\n",
    "router = FlowRouter(g)\n",
    "landslider = ThresholdEroder(g)\n",
    "# eroder = StreamPowerEroder(g, K_sp=1e-6, m_sp=0.5, n_sp=1.0, erode_flooded_nodes=False)\n",
    "g.add_field(\"soil__depth\", np.zeros(nodes_n), at=\"node\", clobber=True)\n",
    "g.add_field(\"bedrock__elevation\", z, at=\"node\", clobber=True)\n",
    "eroder = SpaceLargeScaleEroder(g, K_br=8*1e-6, K_sed=1e-5)\n",
    "\n",
    "for i in tqdm(range(n_dt)):\n",
    "    z[g.status_at_node == g.BC_NODE_IS_CORE] += uplift_rate * dt\n",
    "    router.run_one_step()\n",
    "    landslider.run_one_step()\n",
    "    router.run_one_step()\n",
    "    eroder.run_one_step(dt)"
   ]
  },
  {
   "cell_type": "code",
   "execution_count": null,
   "metadata": {},
   "outputs": [],
   "source": [
    "if nodes_n < 200:\n",
    "    drainage_plot(g, surf_cmap=\"terrain\")\n",
    "else:\n",
    "    imshow_grid(\n",
    "        g,\n",
    "        \"topographic__elevation\",\n",
    "        cmap=\"terrain\",\n",
    "        grid_units=(\"m\", \"m\"),\n",
    "        var_name=\"Elevation (m)\",\n",
    "        plot_name=\"Topographic elevation\",\n",
    "    )\n",
    "plt.show()\n",
    "imshow_grid(\n",
    "    g,\n",
    "    \"surface_water__discharge\",\n",
    "    cmap=\"Blues\",\n",
    "    grid_units=(\"m\", \"m\"),\n",
    "    var_name=\"Discharge (m^3/s)\",\n",
    "    plot_name=\"Surface water discharge\",\n",
    ")"
   ]
  },
  {
   "cell_type": "markdown",
   "metadata": {},
   "source": [
    "<br>\n",
    "<br/>\n",
    "Please reuse this material citing Lenard et al., 2023, CSDMS Annual Meeting.<br/>\n",
    "Author: Sebastien Lenard sebastien.lenard@gmail.com<br>\n",
    "Date: 2023, May."
   ]
  },
  {
   "cell_type": "markdown",
   "metadata": {},
   "source": [
    "### Click here to learn about <a href=\"https://landlab.readthedocs.io/en/latest/user_guide/tutorials.html\">Landlab tutorials</a>"
   ]
  },
  {
   "cell_type": "code",
   "execution_count": null,
   "metadata": {},
   "outputs": [],
   "source": []
  }
 ],
 "metadata": {
  "kernelspec": {
   "display_name": "CSDMS",
   "language": "python",
   "name": "csdms-2023"
  },
  "language_info": {
   "codemirror_mode": {
    "name": "ipython",
    "version": 3
   },
   "file_extension": ".py",
   "mimetype": "text/x-python",
   "name": "python",
   "nbconvert_exporter": "python",
   "pygments_lexer": "ipython3",
   "version": "3.9.16"
  }
 },
 "nbformat": 4,
 "nbformat_minor": 4
}
