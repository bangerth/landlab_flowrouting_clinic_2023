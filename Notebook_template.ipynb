{
 "cells": [
  {
   "cell_type": "markdown",
   "metadata": {},
   "source": [
    "# This notebook to make your exercises.\n"
   ]
  },
  {
   "cell_type": "code",
   "execution_count": null,
   "metadata": {},
   "outputs": [],
   "source": [
    "# Libraries required\n",
    "####################\n",
    "# Python libraries\n",
    "import numpy as np\n",
    "import matplotlib as mpl\n",
    "import matplotlib.pyplot as plt\n",
    "import matplotlib.collections as mpl_collections\n",
    "import time  # performance testing\n",
    "\n",
    "# Landlab libraries/methods\n",
    "# Grid management\n",
    "from landlab import (\n",
    "    RasterModelGrid,\n",
    "    HexModelGrid,\n",
    "    RadialModelGrid,\n",
    "    FramedVoronoiGrid,\n",
    "    VoronoiDelaunayGrid,\n",
    "    NetworkModelGrid,\n",
    ")\n",
    "\n",
    "# Depression and flow handling\n",
    "from landlab.components import (\n",
    "    FlowDirectorSteepest,\n",
    "    FlowDirectorD8,\n",
    "    FlowDirectorMFD,\n",
    "    FlowDirectorDINF,\n",
    "    FlowAccumulator,\n",
    "    DepressionFinderAndRouter,\n",
    "    PriorityFloodFlowRouter,\n",
    ")\n",
    "\n",
    "# Flood status\n",
    "from landlab.components.depression_finder.floodstatus import FloodStatus\n",
    "\n",
    "# import landlab plotting functionality\n",
    "from landlab import imshowhs_grid, imshow_grid\n",
    "from landlab.plot.drainage_plot import drainage_plot\n",
    "from landlab.plot import graph\n",
    "\n",
    "# Experimental FlowRouter component. Requires that the code of the component be in a subfolder flow_router of the folder of this notebook.\n",
    "#from flow_router import FlowRouter"
   ]
  },
  {
   "cell_type": "markdown",
   "metadata": {},
   "source": [
    "### Click here to learn about <a href=\"https://landlab.readthedocs.io/en/latest/user_guide/tutorials.html\">Landlab tutorials</a>"
   ]
  },
  {
   "cell_type": "code",
   "execution_count": null,
   "metadata": {},
   "outputs": [],
   "source": []
  }
 ],
 "metadata": {
  "kernelspec": {
   "display_name": "CSDMS",
   "language": "python",
   "name": "csdms-2023"
  },
  "language_info": {
   "codemirror_mode": {
    "name": "ipython",
    "version": 3
   },
   "file_extension": ".py",
   "mimetype": "text/x-python",
   "name": "python",
   "nbconvert_exporter": "python",
   "pygments_lexer": "ipython3",
   "version": "3.9.16"
  }
 },
 "nbformat": 4,
 "nbformat_minor": 4
}
