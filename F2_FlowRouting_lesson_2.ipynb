{
 "cells": [
  {
   "cell_type": "markdown",
   "metadata": {},
   "source": [
    "# Flow Routing Lesson 2.\n",
    "You can run this notebook on your laptop with landlab v2.6.0 or in lab.openearthscape using the CSDMS environment.\n",
    "\n",
    "# 1. Let's restart with a RasterModelGrid.\n",
    "- Let's revise lesson 1 by doing the same exercise on another type of grid, the ***RasterModelGrid***.\n",
    "    - We start by importing the packages necessary for the lesson."
   ]
  },
  {
   "cell_type": "code",
   "execution_count": null,
   "metadata": {
    "tags": []
   },
   "outputs": [],
   "source": [
    "# Import packages necessary for this lesson\n",
    "import numpy as np # Array handling.\n",
    "import matplotlib as mpl\n",
    "import matplotlib.pyplot as plt # Graphic display\n",
    "\n",
    "from landlab import RasterModelGrid # Grid management.\n",
    "\n",
    "# Depression and flow handling\n",
    "from landlab.components import (\n",
    "    FlowDirectorSteepest,\n",
    "    FlowDirectorD8,\n",
    "    FlowDirectorMFD,\n",
    "    FlowDirectorDINF,\n",
    "    FlowAccumulator,\n",
    "    DepressionFinderAndRouter,\n",
    "    PriorityFloodFlowRouter\n",
    ")\n",
    "\n",
    "# Flood status.\n",
    "from landlab.components.depression_finder.floodstatus import FloodStatus\n",
    "\n",
    "# import landlab plotting functionality.\n",
    "from landlab import imshowhs_grid, imshow_grid\n",
    "from landlab.plot.drainage_plot import drainage_plot\n",
    "from landlab.plot import graph"
   ]
  },
  {
   "cell_type": "markdown",
   "metadata": {},
   "source": [
    "-\n",
    "    - Then we instantiate the grid and display it."
   ]
  },
  {
   "cell_type": "code",
   "execution_count": null,
   "metadata": {
    "tags": []
   },
   "outputs": [],
   "source": [
    "# Grid parameters.\n",
    "grid_param = {\n",
    "        \"shape\": (10, 10),\n",
    "        \"xy_spacing\": (10, 10),\n",
    "        \"xy_axis_units\": \"m\",\n",
    "    }\n",
    "# Creation of the grid.\n",
    "g = RasterModelGrid(**grid_param)\n",
    "\n",
    "# Grid display\n",
    "graph.plot_graph(g, at=\"node\")"
   ]
  },
  {
   "cell_type": "markdown",
   "metadata": {},
   "source": [
    "- Some remarks:\n",
    "    - For clarity, only the nodes are displayed. Each node is connected to his adjacent neighbor:\n",
    "        - either by a horizontal or vertical link,\n",
    "        - or by a diagonal link.\n",
    "    - the perimeter (boundary nodes) are displayed.\n",
    "    \n",
    "<br />\n",
    "<br />\n",
    "- Let's close the northern boundary of the grid and add a random topographic elevation to the grid and display it: \n",
    "    - We specifically set the elevation of node #0 to the lowest."
   ]
  },
  {
   "cell_type": "code",
   "execution_count": null,
   "metadata": {
    "tags": []
   },
   "outputs": [],
   "source": [
    "# Close the northern boundary\n",
    "g.set_closed_boundaries_at_grid_edges(\n",
    "            right_is_closed=False,\n",
    "            top_is_closed=True,\n",
    "            left_is_closed=False,\n",
    "            bottom_is_closed=False,\n",
    "        )\n",
    "\n",
    "# Create field topographic elevation at nodes with value 0 (will be modified later)\n",
    "z = g.add_zeros(\"topographic__elevation\", at=\"node\", clobber=True)\n",
    "\n",
    "# set constant random seed for \"stable\" random pull\n",
    "random_generator = np.random.Generator(np.random.PCG64(seed=500))\n",
    "random_topography = 10.0  # range in elevation (from 0)\n",
    "z = g.at_node[\"topographic__elevation\"] = (\n",
    "    random_topography * random_generator.random(g.number_of_nodes) + 1.0\n",
    ")\n",
    "z[0] = 0.0\n",
    "\n",
    "# Display:\n",
    "imshow_grid(\n",
    "        g,\n",
    "        \"topographic__elevation\",\n",
    "        cmap=\"terrain\",\n",
    "        grid_units=(\"m\", \"m\"),\n",
    "        var_name=\"Elevation (m)\",\n",
    "        plot_name=\"Topographic elevation\",\n",
    "        show_elements=True,\n",
    "    )"
   ]
  },
  {
   "cell_type": "markdown",
   "metadata": {},
   "source": [
    "- Some remarks:\n",
    "    - Although the elevation is displayed as covering a cell, it is actually associated to a node. This is important since the flow will follow a link between two nodes, and on this link a gradient between node elevation can be easily determined by basic landlab grid methods.\n",
    "    - The closed boundary is indicated in black. The rest of the boundary is considered open and can potentially be used as base-level outlet. If you want to force one base-level outlet to node 0 (for instance):\n",
    "```\n",
    "g.set_closed_boundaries_at_grid_edges(\n",
    "    right_is_closed=True,\n",
    "    top_is_closed=True,\n",
    "    left_is_closed=True,\n",
    "    bottom_is_closed=True,\n",
    ")\n",
    "g.status_at_node[0] = g.BC_NODE_IS_FIXED_VALUE\n",
    "```\n",
    "<br/>\n",
    "<br/>\n",
    "- Let's now run the FlowAccumulator with the FlowDirectorSteepest and display the results:\n"
   ]
  },
  {
   "cell_type": "code",
   "execution_count": null,
   "metadata": {
    "tags": []
   },
   "outputs": [],
   "source": [
    "# Run\n",
    "fa = FlowAccumulator(g, 'topographic__elevation', flow_director=FlowDirectorSteepest)\n",
    "fa.run_one_step()\n",
    "\n",
    "# Display of the donor/receiver relationships and drainage network.\n",
    "drainage_plot(g, surf_cmap=\"terrain\")\n",
    "plt.show()"
   ]
  },
  {
   "cell_type": "markdown",
   "metadata": {},
   "source": [
    "- Some remarks :\n",
    "    - Display is fancy :)\n",
    "    - Nodes which are their own receiver are indicated by a black cross.\n",
    "    - The flow or relationship between the donor and receiver is indicated by a yellow arrow.\n",
    "    - We see that we have only one-to-one flow, as indicated by the top-color yellow of the proportion of flow scale.\n",
    "    - We only have flow in vertical and horizontal directions. Diagonals lack.\n",
    "    - We have plenty of depressions without outlet and the river network is not really realistic (same as the random topography actually :D)\n",
    "<br/>\n",
    "<br/>\n",
    "- Let's display the river discharges:    \n"
   ]
  },
  {
   "cell_type": "code",
   "execution_count": null,
   "metadata": {
    "tags": []
   },
   "outputs": [],
   "source": [
    "# Display of river discharge.\n",
    "imshow_grid(\n",
    "        g,\n",
    "        \"surface_water__discharge\",\n",
    "        cmap=\"Blues\",\n",
    "        grid_units=(\"m\", \"m\"),\n",
    "        var_name=\"Discharge (m^3/s)\",\n",
    "        plot_name=\"Surface water discharge\",\n",
    "        show_elements=True,\n",
    "    )"
   ]
  },
  {
   "cell_type": "markdown",
   "metadata": {
    "tags": []
   },
   "source": [
    "- The river discharge reflects the river network ...\n",
    "<br />\n",
    "# 2. Let's create a real contiguous depression and try the DepressionFinderAndRouter component.\n",
    "- We start by updating the topography with the depression:"
   ]
  },
  {
   "cell_type": "code",
   "execution_count": null,
   "metadata": {
    "tags": []
   },
   "outputs": [],
   "source": [
    "# Select the depression nodes and set their new lowered random topography.\n",
    "depression_nodes = [43, 44, 45, 53, 54, 55, 63, 64, 65, 66, 74, 75]\n",
    "z[depression_nodes] = random_generator.random(len(depression_nodes))\n",
    "\n",
    "# Display the topography.\n",
    "imshow_grid(\n",
    "        g,\n",
    "        \"topographic__elevation\",\n",
    "        cmap=\"terrain\",\n",
    "        grid_units=(\"m\", \"m\"),\n",
    "        var_name=\"Elevation (m)\",\n",
    "        plot_name=\"Topographic elevation\",\n",
    "        show_elements=True,\n",
    "    )"
   ]
  },
  {
   "cell_type": "markdown",
   "metadata": {},
   "source": [
    "- Let's now try the flow router component dedicated to 8 directions one-to-one flow, the FlowDirectorD8 and display the result."
   ]
  },
  {
   "cell_type": "code",
   "execution_count": null,
   "metadata": {
    "tags": []
   },
   "outputs": [],
   "source": [
    "# Run accumulation with the FlowDirectorD8.\n",
    "fa = FlowAccumulator(g, \"topographic__elevation\", flow_director=FlowDirectorD8)\n",
    "fa.run_one_step();\n",
    "\n",
    "# Display the network.\n",
    "drainage_plot(g, surf_cmap=\"terrain\")\n",
    "plt.show()\n",
    "\n",
    "# Display of river discharge.\n",
    "imshow_grid(\n",
    "        g,\n",
    "        \"surface_water__discharge\",\n",
    "        cmap=\"Blues\",\n",
    "        grid_units=(\"m\", \"m\"),\n",
    "        var_name=\"Discharge (m^3/s)\",\n",
    "        plot_name=\"Surface water discharge\",\n",
    "        show_elements=True,\n",
    "    )"
   ]
  },
  {
   "cell_type": "markdown",
   "metadata": {},
   "source": [
    "- We solved the problem of the lack of diagonal flows. Note that this is a problem specific to RasterGrid, which doesn't exist on other grids, such as the HexModelGrid.\n",
    "- Let's now use the DepressionFinderAndRouter:"
   ]
  },
  {
   "cell_type": "code",
   "execution_count": null,
   "metadata": {
    "tags": []
   },
   "outputs": [],
   "source": [
    "# Use of the DepressionFinderAndRouter component.\n",
    "df = DepressionFinderAndRouter(g)\n",
    "df.map_depressions()\n",
    "\n",
    "# Display the network.\n",
    "drainage_plot(g, surf_cmap=\"terrain\")\n",
    "plt.show()\n",
    "\n",
    "# Display of river discharge.\n",
    "imshow_grid(\n",
    "        g,\n",
    "        \"surface_water__discharge\",\n",
    "        cmap=\"Blues\",\n",
    "        grid_units=(\"m\", \"m\"),\n",
    "        var_name=\"Discharge (m^3/s)\",\n",
    "        plot_name=\"Surface water discharge\",\n",
    "        show_elements=True,\n",
    "    )"
   ]
  },
  {
   "cell_type": "markdown",
   "metadata": {},
   "source": [
    "- The DepressionFinderAndRouter breached the depression outlet and drove the flow to the open boundary.\n",
    "    - All the depressions are solved.\n",
    "    - The solving may not be really realistic.\n",
    "    - But it allows to make run erosion/sediment processes within a landscape evolution model without mamy artifacts.\n",
    "- What the component actually does:\n",
    "    - This component scans all the sinks. These sinks are provided by the FlowDirector/Accumulator (field ```flow__sink_flag```). The component then maps depressions and finds the lowest node at the perimeter of the depression. Once found, it considers this point as the depression outlet and recalculates all flow directions and accumulations by evacuating the depression.\n",
    "- Another way to make the component run is to directly include it in the FlowAccumulator:\n",
    "```\n",
    "df = DepressionFinderAndRouter(g)\n",
    "fa = FlowAccumulator(\n",
    "    g, surface=\"topographic__elevation\", flow_director=\"FlowDirectorD8\", depression_finder=df\n",
    ")\n",
    "```\n",
    "<br />\n",
    "<br />"
   ]
  },
  {
   "cell_type": "markdown",
   "metadata": {},
   "source": [
    "- So this sounds a great component and it is. Notably because it respects the algorithm of the Steepest Descent and is convenient for landscapes with few depressions. However, this component:\n",
    "\n",
    "    - is not compatible with the one-to-multiple flow components such as the FlowDirectorMFD and the FlowDirectorDinf\n",
    "    - is not optimized with C-code and the execution time of the algorithm is directly related to the number of depressions. This means that if earth surface processes frequently generate depressions during landscape evolution, the resolution of all these depressions will be very time-consuming."
   ]
  },
  {
   "cell_type": "markdown",
   "metadata": {},
   "source": [
    "<br/>\n",
    "Please reuse this material citing Lenard et al., 2023, CSDMS Annual Meeting.<br/>\n",
    "Author: Sebastien Lenard sebastien.lenard@gmail.com<br/>\n",
    "Date: 2023, May."
   ]
  },
  {
   "cell_type": "markdown",
   "metadata": {},
   "source": [
    "### Click here to learn about <a href=\"https://landlab.readthedocs.io/en/latest/user_guide/tutorials.html\">Landlab tutorials</a>"
   ]
  },
  {
   "cell_type": "code",
   "execution_count": null,
   "metadata": {},
   "outputs": [],
   "source": []
  }
 ],
 "metadata": {
  "kernelspec": {
   "display_name": "Develop",
   "language": "python",
   "name": "dev"
  },
  "language_info": {
   "codemirror_mode": {
    "name": "ipython",
    "version": 3
   },
   "file_extension": ".py",
   "mimetype": "text/x-python",
   "name": "python",
   "nbconvert_exporter": "python",
   "pygments_lexer": "ipython3",
   "version": "3.10.11"
  }
 },
 "nbformat": 4,
 "nbformat_minor": 4
}
