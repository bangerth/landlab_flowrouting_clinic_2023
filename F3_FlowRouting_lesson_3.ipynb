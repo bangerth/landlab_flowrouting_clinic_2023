{
 "cells": [
  {
   "cell_type": "markdown",
   "metadata": {},
   "source": [
    "# Flow Routing Lesson 3.\n",
    "\n",
    "# 1. The PriorityFloodFlowRouter.\n",
    "- Some landscape evolution models generate a large quantity of depressions over time and need to have an efficient algorithm to solve them and route flow, with reduced execution time.\n",
    "    - This is particularly the case with landslides, or glacial retreats and advances.\n",
    "- Faced to these large execution times with the DepressionFinderAndRouter, Benjamin Campforts developed the PriorityFloodFlowRouter with the CSDMS Team. This Component encapsulates the Richdem python package developed by Barnes. Richdem route flow based on the Priority Flood Flow algorithm detailed in [Barnes et al., 2014](https://dx.doi.org/10.1016/j.cageo.2013.01.009).\n",
    "    - The component combine the functionalities of flow directing, accumulation and depression filling.\n",
    "    - This algorithm works differently from the FlowDirectorSteepest and D8 combined with the DepressionFinderAndRouter:\n",
    "```    \n",
    "Use a different scanning, starting from the open boundary of the grid.\n",
    "Not stricto sensu steepest descent.\n",
    "\n",
    "Breach algorithm to handle depressions.\n",
    "Use the notion of depression outlets. If there's no depression, this depression outler is identic to the catchment outlet.\n",
    "Add a layer called depression_free_elevations, which fills the depressions of the topography\n",
    "\n",
    "- we create a total order priority queue called To_do, with initially no elements. We will add nodes into To_do ordered by elevation. This means that we will handle the nodes in To_do by popping the node with lowest elevation first.\n",
    "- we start from the nodes of the open boundary of the grid:\n",
    "    - we add them into To_do.\n",
    "    - we set their receivers as themselves.\n",
    "    - we set their catchment outlets and depression outlets as themselves too.\n",
    "    - we consider them as Done.\n",
    "- Then, we execute this while the To_do queue has nodes:\n",
    "    - we popped the node R with lowest elevation from the To_do queue.\n",
    "    - For all the neighbors of this node R, which have not been Done:\n",
    "        - we set them as donors of this node R (R then become their receiver).\n",
    "        - we set their catchment outlet and depression outlet to the cathment outlet and depression outlet of the node R.\n",
    "        - we set their depression_free_elevation:\n",
    "            - if their elevation is below the depression outlet, set to the elevation of the depression outlet.\n",
    "            - otherwise \n",
    "        - we add them to the To_do queue.\n",
    "    - we set the node R as Done.\n",
    " ```   \n",
    " (Reformulation by myself, based on Barnes et al., 2014)\n"
   ]
  },
  {
   "cell_type": "markdown",
   "metadata": {},
   "source": [
    "- Let's try the PriorityFloodFlowRouter on the grid of Lesson 2, using the FlowDirectorD8:\n",
    "    - We avoid to close the northern boundary, the component may not consider closed boundaries very well."
   ]
  },
  {
   "cell_type": "code",
   "execution_count": null,
   "metadata": {
    "tags": []
   },
   "outputs": [],
   "source": [
    "# Import packages necessary for this lesson\n",
    "import numpy as np # Array handling.\n",
    "import matplotlib as mpl\n",
    "import matplotlib.pyplot as plt # Graphic display\n",
    "\n",
    "from landlab import RasterModelGrid # Grid management.\n",
    "\n",
    "# Depression and flow handling\n",
    "from landlab.components import (\n",
    "    FlowDirectorSteepest,\n",
    "    FlowDirectorD8,\n",
    "    FlowDirectorMFD,\n",
    "    FlowDirectorDINF,\n",
    "    FlowAccumulator,\n",
    "    DepressionFinderAndRouter,\n",
    "    PriorityFloodFlowRouter,\n",
    "    SpaceLargeScaleEroder,\n",
    ")\n",
    "\n",
    "# Flood status.\n",
    "from landlab.components.depression_finder.floodstatus import FloodStatus\n",
    "\n",
    "# import landlab plotting functionality.\n",
    "from landlab import imshowhs_grid, imshow_grid\n",
    "from landlab.plot.drainage_plot import drainage_plot\n",
    "from landlab.plot import graph"
   ]
  },
  {
   "cell_type": "code",
   "execution_count": null,
   "metadata": {
    "tags": []
   },
   "outputs": [],
   "source": [
    "# Grid parameters.\n",
    "grid_param = {\n",
    "        \"shape\": (10, 10),\n",
    "        \"xy_spacing\": (10, 10),\n",
    "        \"xy_axis_units\": \"m\",\n",
    "    }\n",
    "# Creation of the grid.\n",
    "g = RasterModelGrid(**grid_param)\n",
    "\n",
    "# Close the northern boundary\n",
    "g.set_closed_boundaries_at_grid_edges(\n",
    "            right_is_closed=False,\n",
    "            top_is_closed=False,\n",
    "            left_is_closed=False,\n",
    "            bottom_is_closed=False,\n",
    "        )\n",
    "\n",
    "# Create field topographic elevation at nodes with value 0 (will be modified later)\n",
    "z = g.add_zeros(\"topographic__elevation\", at=\"node\", clobber=True)\n",
    "\n",
    "# set constant random seed for \"stable\" random pull\n",
    "random_generator = np.random.Generator(np.random.PCG64(seed=500))\n",
    "random_topography = 10.0  # range in elevation (from 0)\n",
    "z = g.at_node[\"topographic__elevation\"] = (\n",
    "    random_topography * random_generator.random(g.number_of_nodes) + 1.0\n",
    ")\n",
    "z[0] = 0.0\n",
    "\n",
    "# Select the depression nodes and set their new lowered random topography.\n",
    "depression_nodes = [43, 44, 45, 53, 54, 55, 63, 64, 65, 66, 74, 75]\n",
    "z[depression_nodes] = random_generator.random(len(depression_nodes))"
   ]
  },
  {
   "cell_type": "code",
   "execution_count": null,
   "metadata": {
    "tags": []
   },
   "outputs": [],
   "source": [
    "# Use of the PriorityFloodFlowRouter.\n",
    "flow_metric = \"D8\"\n",
    "fa_PF = PriorityFloodFlowRouter(\n",
    "    g,\n",
    "    surface=\"topographic__elevation\",\n",
    "    flow_metric=flow_metric,\n",
    "    suppress_out=False,\n",
    "    depression_handler=\"fill\",\n",
    "    accumulate_flow=True,\n",
    ")\n",
    "\n",
    "fa_PF.run_one_step()\n",
    "\n",
    "# Display of the donor/receiver relationships and drainage network.\n",
    "drainage_plot(g, surf_cmap=\"terrain\")\n",
    "plt.show()\n",
    "# Display of river discharge.\n",
    "imshow_grid(\n",
    "        g,\n",
    "        \"surface_water__discharge\",\n",
    "        cmap=\"Blues\",\n",
    "        grid_units=(\"m\", \"m\"),\n",
    "        var_name=\"Discharge (m^3/s)\",\n",
    "        plot_name=\"Surface water discharge\",\n",
    "        show_elements=True,\n",
    "    )"
   ]
  },
  {
   "cell_type": "markdown",
   "metadata": {},
   "source": [
    "- The component provides a result, which may not always respect the Steepest Descent algorithm, since it starts from the lowest nodes at the boundary and don't scan the nodes as systematically as the Steepest algorithm. However, the Priority Flood Flow algorithm provide plausible river network that can be used to investigate erosion/sedimentation processes in a landscape evolution model.\n",
    "- The component also fills depressions and provide a new field to the grid called depression_free_elevation:"
   ]
  },
  {
   "cell_type": "code",
   "execution_count": null,
   "metadata": {
    "tags": []
   },
   "outputs": [],
   "source": [
    "# Display the depression_free_elevation.\n",
    "imshow_grid(\n",
    "        g,\n",
    "        \"depression_free_elevation\",\n",
    "        cmap=\"terrain\",\n",
    "        grid_units=(\"m\", \"m\"),\n",
    "        var_name=\"Elevation (m)\",\n",
    "        plot_name=\"Depression free elevation\",\n",
    "        show_elements=True,\n",
    "    )"
   ]
  },
  {
   "cell_type": "markdown",
   "metadata": {
    "tags": []
   },
   "source": [
    "## 2. One-to-Multiple flow Dinf.\n",
    "- Let's now combine the PriorityFloodFlowRouter with the one-to-multiple flow Dinf ([Tarboton, 1997](https://doi.org/10.1029/96WR03137)):"
   ]
  },
  {
   "cell_type": "code",
   "execution_count": null,
   "metadata": {
    "tags": []
   },
   "outputs": [],
   "source": [
    "# Use of the PriorityFloodFlowRouter.\n",
    "flow_metric = \"Dinf\"\n",
    "fa_PF = PriorityFloodFlowRouter(\n",
    "    g,\n",
    "    surface=\"topographic__elevation\",\n",
    "    flow_metric=flow_metric,\n",
    "    suppress_out=False,\n",
    "    depression_handler=\"fill\",\n",
    "    accumulate_flow=True,\n",
    ")\n",
    "\n",
    "fa_PF.run_one_step()\n",
    "\n",
    "# Display of the donor/receiver relationships and drainage network.\n",
    "drainage_plot(g, surf_cmap=\"terrain\")\n",
    "plt.show()"
   ]
  },
  {
   "cell_type": "markdown",
   "metadata": {},
   "source": [
    "- Dinf allows to split routing in two adjacent flows, with proportions vary according the respective slope. \n",
    "    - Because of this rule, we see that not all nodes have multiple flow.\n",
    "    - Here multiple flow doesn't change much the river network.\n",
    "    - But it can allow to make the distribution of sediment more realistic."
   ]
  },
  {
   "cell_type": "markdown",
   "metadata": {},
   "source": [
    "<br>\n",
    "Author: Sebastien Lenard<br>\n",
    "Date: 2023, May."
   ]
  },
  {
   "cell_type": "markdown",
   "metadata": {},
   "source": [
    "### Click here to learn about <a href=\"https://landlab.readthedocs.io/en/latest/user_guide/tutorials.html\">Landlab tutorials</a>"
   ]
  },
  {
   "cell_type": "code",
   "execution_count": null,
   "metadata": {},
   "outputs": [],
   "source": []
  }
 ],
 "metadata": {
  "kernelspec": {
   "display_name": "Develop",
   "language": "python",
   "name": "dev"
  },
  "language_info": {
   "codemirror_mode": {
    "name": "ipython",
    "version": 3
   },
   "file_extension": ".py",
   "mimetype": "text/x-python",
   "name": "python",
   "nbconvert_exporter": "python",
   "pygments_lexer": "ipython3",
   "version": "3.10.11"
  }
 },
 "nbformat": 4,
 "nbformat_minor": 4
}
