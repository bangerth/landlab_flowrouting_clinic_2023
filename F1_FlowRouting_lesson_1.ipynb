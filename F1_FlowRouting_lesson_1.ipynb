{
 "cells": [
  {
   "cell_type": "markdown",
   "metadata": {},
   "source": [
    "# Flow Routing Lesson 1.\n",
    "You can run this notebook on your laptop with landlab v2.6.0 or in lab.openearthscape using the CSDMS environment.\n",
    "\n",
    "# 1. Steepest descent flow direction and downstream accumulation on a simple NetworkModelGrid.\n",
    "- Let's start by a grid containing two simple, separate linked network of nodes. Links could be rivers and nodes gauge stations."
   ]
  },
  {
   "cell_type": "code",
   "execution_count": null,
   "metadata": {
    "tags": []
   },
   "outputs": [],
   "source": [
    "import numpy as np # import package to handle arrays\n",
    "from landlab import NetworkModelGrid # import the network grid class.\n",
    "from landlab.plot import graph # import class for detailed plot of the grid.\n",
    "\n",
    "# Set the parameters of the grid.\n",
    "grid_param = {\n",
    "    \"yx_of_node\": (\n",
    "        (0, 100, 200, 200, 300, 400, 400, 125, 300, 280),\n",
    "        (0, 0, 100, -50, -100, 50, -150, -100, 130, 80),\n",
    "    ), # position of nodes.\n",
    "    \"links\": ((1, 0), (2, 1), (1, 7), (3, 1), (3, 4), (4, 5), (4, 6),\n",
    "              (8, 9), \n",
    "             ), # link between nodes.\n",
    "    \"xy_axis_units\": \"m\",\n",
    "}\n",
    "\n",
    "# Creation of the grid\n",
    "g = NetworkModelGrid(**grid_param)\n",
    "\n",
    "# Display grid.\n",
    "Fig = graph.plot_graph(g, at=\"node,link\")\n",
    "import matplotlib\n",
    "import matplotlib.pyplot as plt\n",
    "plt.savefig('fig/01_plain_network_grid.png')\n",
    "\n",
    "# Display prerecorded image.\n",
    "from IPython import display\n",
    "display.Image(\"fig/01_01_plain_network_grid.png\")"
   ]
  },
  {
   "cell_type": "markdown",
   "metadata": {},
   "source": [
    "- We set the base-level nodes #0 and #7, close the node #8 (because we want to!) and let's see what are the active links with their head and tail nodes."
   ]
  },
  {
   "cell_type": "code",
   "execution_count": null,
   "metadata": {
    "tags": []
   },
   "outputs": [],
   "source": [
    "# Set of perimeter base-level nodes\n",
    "g.status_at_node[[0, 7]] = g.BC_NODE_IS_FIXED_VALUE\n",
    "# Close one node.\n",
    "g.status_at_node[8] = g.BC_NODE_IS_CLOSED\n",
    "\n",
    "print(\"Status at node: \", g.status_at_node)\n",
    "\n",
    "# Active links and head and tail nodes.\n",
    "active_links = g.active_links\n",
    "src_nodes = g.node_at_link_head[active_links]\n",
    "dst_nodes = g.node_at_link_tail[active_links]\n",
    "print(\"Active links: \", active_links)\n",
    "print(\"Head nodes of links:\", src_nodes)\n",
    "print(\"Tail nodes of links:\", dst_nodes)\n",
    "\n",
    "# Display prerecorded image.\n",
    "from IPython import display\n",
    "display.Image(\"fig/01_02_plain_network_grid.png\")"
   ]
  },
  {
   "cell_type": "markdown",
   "metadata": {},
   "source": [
    "- We add a topography, such as each link has consistent downstream direction with the other links (in other words we avoid depressions)."
   ]
  },
  {
   "cell_type": "code",
   "execution_count": null,
   "metadata": {
    "tags": []
   },
   "outputs": [],
   "source": [
    "# Create field topographic elevation at nodes without depression.\n",
    "z = g.add_field(\"topographic__elevation\", \n",
    "                [1., 5., 6., 7., 16., 10., 10., 2., 14., 16. ],\n",
    "                at=\"node\", clobber=\"True\") # clobber allows to erase previous field of same name if existed.\n",
    "print(\"Nodes: \", np.arange(g.number_of_nodes))\n",
    "print(\"Elevation (m):\", z)\n",
    "\n",
    "# Display prerecorded image.\n",
    "display.Image(\"fig/01_03_plain_network_grid_topography.png\")"
   ]
  },
  {
   "cell_type": "markdown",
   "metadata": {},
   "source": [
    "- We will now determine by \"hand\" the receiver of each node, according the Steepest descent algorithm (O'Callaghan and Mark, 1984). Of course we already know the result since we designed the grid to be trivial.\n",
    "    - Let's start to calculate the topographic gradients (=slopes) between the nodes."
   ]
  },
  {
   "cell_type": "code",
   "execution_count": null,
   "metadata": {
    "tags": []
   },
   "outputs": [],
   "source": [
    "# Gradients of topographic__elevation.\n",
    "link_slope = g.calc_grad_at_link(g.at_node[\"topographic__elevation\"])\n",
    "link_slope = link_slope[g.active_links]\n",
    "print(\"Links: \", g.active_links)\n",
    "print(\"Gradients (slopes) at link: \", link_slope)"
   ]
  },
  {
   "cell_type": "markdown",
   "metadata": {},
   "source": [
    "-\n",
    "    - Then we initialize some fields for steepest descent calculation, we set the boundary nodes as their own receivers and run the algorithm. Results are the receiver corresponding to each node."
   ]
  },
  {
   "cell_type": "code",
   "execution_count": null,
   "metadata": {
    "tags": []
   },
   "outputs": [],
   "source": [
    "# Steepest algorithm.\n",
    "\n",
    "# Initialize fields.\n",
    "receiver_link = -1 * np.ones(g.number_of_nodes, dtype='int');\n",
    "receiver = -1 * np.ones(g.number_of_nodes, dtype='int');\n",
    "steepest_slope = g.add_zeros(\"topographic__steepest_slope\", at=\"node\", clobber=\"True\")\n",
    "receiver_link = g.add_field(\"flow__link_to_receiver_node\", receiver_link, at=\"node\", clobber=\"True\")\n",
    "receiver =  g.add_field(\"flow__receiver_node\", receiver, at=\"node\", clobber=\"True\")\n",
    "\n",
    "# Set receivers of nodes in boundary or closed to the nodes themselves.\n",
    "receiver[g.status_at_node != 0] = np.where(g.status_at_node != 0)[0];\n",
    "\n",
    "# Run the steepest descent algorithm.\n",
    "for i in range(len(active_links)):\n",
    "    src_id = src_nodes[i]\n",
    "    dst_id = dst_nodes[i]\n",
    "    if z[src_id] > z[dst_id] and link_slope[i] > steepest_slope[src_id]:\n",
    "        receiver[src_id] = dst_id\n",
    "        steepest_slope[src_id] = link_slope[i]\n",
    "        receiver_link[src_id] = active_links[i]\n",
    "    elif z[dst_id] > z[src_id] and -link_slope[i] > steepest_slope[dst_id]:\n",
    "        receiver[dst_id] = src_id\n",
    "        steepest_slope[dst_id] = - link_slope[i]\n",
    "        receiver_link[dst_id] = active_links[i]\n",
    "        \n",
    "# Print steepest descent results.\n",
    "print(\"Donor nodes: \", np.arange(g.number_of_nodes))\n",
    "print(\"Receiver nodes: \", g.at_node[\"flow__receiver_node\"])"
   ]
  },
  {
   "cell_type": "markdown",
   "metadata": {},
   "source": [
    "- This can be performed in a more straightforward way by using the Steepest descent component of Landlab, **FlowDirectorSteepest**."
   ]
  },
  {
   "cell_type": "code",
   "execution_count": null,
   "metadata": {
    "tags": []
   },
   "outputs": [],
   "source": [
    "# Use of landlab FlowDirectorSteepest component.\n",
    "\n",
    "# Reset fields.\n",
    "link_slope = []\n",
    "receiver_link = []\n",
    "receiver = []\n",
    "src_nodes = []\n",
    "dst_nodes = []\n",
    "steepest_slope = []\n",
    "\n",
    "# Run component\n",
    "from landlab.components import FlowDirectorSteepest       # Import component.\n",
    "fd = FlowDirectorSteepest(g, \"topographic__elevation\")    # Instantiate component on the specific topographic layer of the grid.\n",
    "fd.run_one_step();                                         # Run the steepest descent algorithm. We can also use fd.direct_flow();\n",
    "\n",
    "# Result display.\n",
    "print(\"Donor nodes: \", np.arange(g.number_of_nodes))\n",
    "print(\"Receiver nodes: \", g.at_node[\"flow__receiver_node\"])"
   ]
  },
  {
   "cell_type": "markdown",
   "metadata": {},
   "source": [
    "- So, you may say: wow, the landlab FlowDirectorSteepest component just does the same thing as what i just coded in this notebook! The answer is yes, but in an optimized way:\n",
    "    - The problem with the code we wrote is that it's a loop. For large grids, loops are extremely time-consuming in python. The FlowDirectorSteepest component uses a version of this loop (1) translated in C-language using Cython and (2) compiled when you install Landlab. Loops are performant in C because data access in arrays do not use objects as in python. So the FlowDirectorSteepest component works similarly to methods of the Numpy package, which similarly encapsulates C-code within python wrappers to optimize classic handling of arrays operations.\n",
    "<br /> \n",
    "<br /> \n",
    "- Now that we have the donor-receiver relationships, we can construct the way the discharge goes downstream. Again, we know the result since we design the grid trivial on purpose. Let's do this using the FlowAccumulator component which implements the Braun and Willet, 2013's upstream/downstream O(n) algorithm. \n",
    "    - This algorithm starts from the most elevated nodes and constructs the network downstream, using a stack and a recursive function.\n",
    "<br />  \n",
    "<br />  \n",
    "- To do this:\n",
    "    - we have to add first the field cell_area_at_node to the NetworkModelGrid (this is not necessary for classic grids, but the poor sibling has limited functionalities in Landlab right now (2023)).\n",
    "    - we also add a uniform rainfall input of 2 to the grid, through the water__unit_flux_in field."
   ]
  },
  {
   "cell_type": "code",
   "execution_count": null,
   "metadata": {
    "tags": []
   },
   "outputs": [],
   "source": [
    "# Use of the FlowAccumulator component, which implements Braun and Willet, 2013's upstream/downstream O(n) algorithm.\n",
    "\n",
    "# Add the fields for drainage and discharge.\n",
    "g.add_ones(\"cell_area_at_node\", at=\"node\", clobber=\"True\")\n",
    "g.add_field(\"water__unit_flux_in\", 2. * np.ones(g.number_of_nodes), at=\"node\", clobber=\"True\")\n",
    "\n",
    "# Then import FlowAccumulater, instantiate and run.\n",
    "from landlab.components import FlowAccumulator\n",
    "fa = FlowAccumulator(g, 'topographic__elevation', flow_director=fd);\n",
    "fa.run_one_step();\n",
    "\n",
    "# Result display.\n",
    "print(\"Drainage area: \", g.at_node['drainage_area'])\n",
    "print(\"River discharge: \", g.at_node['surface_water__discharge'])\n",
    "\n",
    "# Display prerecorded image.\n",
    "display.Image(\"fig/01_04_plain_network_grid_discharge.png\")"
   ]
  },
  {
   "cell_type": "markdown",
   "metadata": {},
   "source": [
    "- We can also code and run this more simply, without specifically instantiating and running a FlowDirectorSteepest before instantiating and running the FlowAccumulator:\n",
    "\n",
    "```\n",
    "fa = FlowAccumulator(g, 'topographic__elevation', flow_director=FlowDirectorSteepest)\n",
    "fa.run_one_step()\n",
    "```\n",
    "\n",
    "\n",
    "# Flow direction and downstream accumulation on a less trivial grid.\n",
    "- Let's imagine that the network is more complicated. Suppose that the node #4 covers 5 km^2. Given its high elevation, water from node #4 could flow to nodes #0, #3, and #6."
   ]
  },
  {
   "cell_type": "code",
   "execution_count": null,
   "metadata": {
    "tags": []
   },
   "outputs": [],
   "source": [
    "# flow from node 4 is split in 4.\n",
    "grid_param[\"links\"] = ((1, 0), (2, 1), (1, 7), (3, 1), (3, 4), (4, 5), (4, 6),\n",
    "              (8, 9),               \n",
    "              (0,2), (2, 4), (3, 2)) # link between nodes.\n",
    "\n",
    "# Creation of the grid\n",
    "g = NetworkModelGrid(**grid_param)\n",
    "\n",
    "# Set of perimeter base-level nodes\n",
    "g.status_at_node[[0, 7]] = g.BC_NODE_IS_FIXED_VALUE\n",
    "\n",
    "# Display grid.\n",
    "graph.plot_graph(g, at=\"node,link\")\n",
    "\n",
    "# Create field topographic elevation at nodes without depression.\n",
    "z = g.add_field(\"topographic__elevation\", \n",
    "                [1., 5., 6., 7., 16., 10., 10., 2., 14., 16. ],\n",
    "                at=\"node\", clobber=\"True\")\n",
    "\n",
    "# Add the fields for drainage and discharge.\n",
    "g.add_ones(\"cell_area_at_node\", at=\"node\", clobber=\"True\")\n",
    "g.add_field(\"water__unit_flux_in\", 2. * np.ones(g.number_of_nodes), at=\"node\", clobber=\"True\")\n",
    "\n",
    "# Flow direction and accumulation with Steepest descent.\n",
    "fa = FlowAccumulator(g, \"topographic__elevation\", flow_director=FlowDirectorSteepest)\n",
    "fa.run_one_step();\n",
    "\n",
    "# Result display.\n",
    "print(\"Donor nodes: \", np.arange(g.number_of_nodes))\n",
    "print(\"Receiver nodes: \", g.at_node[\"flow__receiver_node\"])\n",
    "print(\"Drainage area: \", g.at_node['drainage_area'])\n",
    "print(\"River discharge: \", g.at_node['surface_water__discharge'])\n",
    "\n",
    "# Display grid.\n",
    "Fig = graph.plot_graph(g, at=\"node,link\")\n",
    "import matplotlib\n",
    "import matplotlib.pyplot as plt\n",
    "plt.savefig('fig/02_plain_network_grid.png')\n",
    "\n",
    "# Display prerecorded image.\n",
    "display.Image(\"fig/02_01_plain_network_grid.png\")"
   ]
  },
  {
   "cell_type": "markdown",
   "metadata": {
    "tags": []
   },
   "source": [
    "- Despite connections between #4 and several other nodes, the FlowDirectorSteepest still favors the connection between #4 downstream to #1 because it is the steepest slope. This leads to two remarks:\n",
    "    - the FlowDirectorSteepest applies the steepest slope for all nodes of the network. Some other flow routing components, such as the PriorityFloodFlowRouter component, based on Barnes et al., 2014, although still based on steepest descent, can give a result that doesn't strictly apply the steepest descent for all nodes.\n",
    "    - you cannot rely on the Steepest Descent algorithm to give a drainage network corresponding to what is actually observed. This algorithm is only an algorithm to get a drainage network at first order within a reduced amount of execution time.\n",
    "    - theFlowDirectorSteepest directs donors to receivers in a one-to-one way. Other algorithms exist to implement this in a one-to-multiple nodes way, for instance:\n",
    "        - the Multiple Flow Direction (MFD) algorithm of [Quinn et al., 1991](https://doi.org/10.1002/hyp.3360050106), implemented in the **FlowDirectorMFD** component. This component works for all grids except the NetworkModelGrid.\n",
    "        - the one-to-two node D-Infinity (DINF) algorithm of [Tarboton, 1997](https://doi.org/10.1029/96WR03137), implemented in the **FlowDirectorDinf** component. That component only works for RasterModelGrids.\n",
    "<br />\n",
    "<br />\n",
    "- Let's imagine now that the data indicate a depression in nodes #3 and #6."
   ]
  },
  {
   "cell_type": "code",
   "execution_count": null,
   "metadata": {
    "tags": []
   },
   "outputs": [],
   "source": [
    "# flow from node 4 is split in 4.\n",
    "grid_param[\"links\"] = ((1, 0), (2, 1), (1, 7), (3, 1), (3, 4), (4, 5), (4, 6),\n",
    "              (8, 9)) # link between nodes.\n",
    "\n",
    "# Creation of the grid\n",
    "g = NetworkModelGrid(**grid_param)\n",
    "\n",
    "# Set of perimeter base-level nodes\n",
    "g.status_at_node[[0, 7]] = g.BC_NODE_IS_FIXED_VALUE\n",
    "\n",
    "# Create field topographic elevation at nodes without depression.\n",
    "z = g.add_field(\"topographic__elevation\", \n",
    "                [1., 5., 6., 4., 16., 10., 4.5, 2., 14., 16. ],\n",
    "                at=\"node\", clobber=\"True\")\n",
    "\n",
    "# Add the fields for drainage and discharge.\n",
    "g.add_ones(\"cell_area_at_node\", at=\"node\", clobber=\"True\")\n",
    "g.add_field(\"water__unit_flux_in\", 2. * np.ones(g.number_of_nodes), at=\"node\", clobber=\"True\")\n",
    "\n",
    "# Flow direction and accumulation with Steepest descent.\n",
    "fa = FlowAccumulator(g, \"topographic__elevation\", flow_director=FlowDirectorSteepest)\n",
    "fa.run_one_step();\n",
    "\n",
    "# Result display.\n",
    "print(\"Donor nodes: \", np.arange(g.number_of_nodes))\n",
    "print(\"Receiver nodes: \", g.at_node[\"flow__receiver_node\"])\n",
    "print(\"Drainage area: \", g.at_node['drainage_area'])\n",
    "print(\"River discharge: \", g.at_node['surface_water__discharge'])\n",
    "\n",
    "# Display prerecorded image.\n",
    "display.Image(\"fig/02_02_plain_network_grid_depression.png\")"
   ]
  },
  {
   "cell_type": "markdown",
   "metadata": {},
   "source": [
    "- The FlowDirectorSteepest and FlowAccumulator components cannot solve this depression and redirect the flow by themselves. \n",
    "    - This have even a bigger impact of landscape evolution models, in which depressions are continuously created by processes such as landslides or ice flow. We sometimes need to breach or fill the depressions because they may not correspond to something realistic or create some artefacts in the landscape evolution models.\n",
    "<br />\n",
    "<br />\n",
    "- We could apply the DepressionFinderAndRouter component on the grid after having run the FlowDirectorSteepest and FlowAccumulator component so that the flow manages to breach the depression outlet. Unfortunately, the DepressionFinderAndRouter still doesn't handle NetworkModelGrid."
   ]
  },
  {
   "cell_type": "markdown",
   "metadata": {},
   "source": [
    "<br/>\n",
    "Please reuse this material citing Lenard et al., 2023, CSDMS Annual Meeting.<br/>\n",
    "Author: Sebastien Lenard sebastien.lenard@gmail.com<br/>\n",
    "Date: 2023, May."
   ]
  },
  {
   "cell_type": "markdown",
   "metadata": {},
   "source": [
    "### Click here to learn about <a href=\"https://landlab.readthedocs.io/en/latest/user_guide/tutorials.html\">Landlab tutorials</a>"
   ]
  },
  {
   "cell_type": "code",
   "execution_count": null,
   "metadata": {},
   "outputs": [],
   "source": []
  }
 ],
 "metadata": {
  "kernelspec": {
   "display_name": "Develop",
   "language": "python",
   "name": "dev"
  },
  "language_info": {
   "codemirror_mode": {
    "name": "ipython",
    "version": 3
   },
   "file_extension": ".py",
   "mimetype": "text/x-python",
   "name": "python",
   "nbconvert_exporter": "python",
   "pygments_lexer": "ipython3",
   "version": "3.10.11"
  }
 },
 "nbformat": 4,
 "nbformat_minor": 4
}
